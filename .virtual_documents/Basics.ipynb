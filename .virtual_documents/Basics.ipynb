





import torch





# Create a tensor of size 2x3 filled with zeros
zeros = torch.zeros(2, 3)
print("Zero Tensor:")
print(zeros)

# Create a tensor filled with random values
random_tensor = torch.rand(2, 3)
print("\nRandom Tensor:")
print(random_tensor)

# Create a tensor from a Python list
list_tensor = torch.tensor([[1, 2], [3, 4]])
print("\nTensor from List:")
print(list_tensor)





# Addition
sum_tensor = torch.add(zeros, random_tensor)
print("Sum of Zero and Random Tensor:")
print(sum_tensor)

# Element-wise multiplication
mul_tensor = zeros * random_tensor
print("\nElement-wise Multiplication:")
print(mul_tensor)

# Matrix multiplication
mat_mul_tensor = torch.matmul(list_tensor, torch.tensor([[2, 0], [0, 2]]))
print("\nMatrix Multiplication:")
print(mat_mul_tensor)





# Create tensors for gradient computation
x = torch.rand(3, requires_grad=True)
y = 3*x + 2

# Compute gradients
y.backward(torch.ones_like(x))
print("Gradient of y with respect to x:")
print(x.grad)





# Reshape tensor to different dimensions
original_tensor = torch.rand(4, 4)
reshaped_tensor = original_tensor.view(2, 8)
print("Original Tensor:")
print(original_tensor)
print("\nReshaped Tensor:")
print(reshaped_tensor)

# Flatten tensor
flat_tensor = original_tensor.flatten()
print("\nFlattened Tensor:")
print(flat_tensor)





# Index into tensor to get a row
second_row = original_tensor[1]
print("Second Row of Original Tensor:")
print(second_row)

# Slice tensor to get a specific column
third_column = original_tensor[:, 2]
print("\nThird Column of Original Tensor:")
print(third_column)

# Complex slicing
upper_left_quarter = original_tensor[:2, :2]
print("\nUpper Left Quarter of Tensor:")
print(upper_left_quarter)





# Concatenate tensors along the first dimension
concatenated_tensor = torch.cat([original_tensor, original_tensor], dim=0)
print("Concatenated Tensor along Dimension 0:")
print(concatenated_tensor)

# Stack tensors along a new dimension
stacked_tensor = torch.stack([original_tensor, original_tensor], dim=0)
print("\nStacked Tensor along New Dimension:")
print(stacked_tensor)





# Split tensor into chunks
split_tensors = torch.split(original_tensor, 2)
print("Tensors Split into Two Rows each:")
for t in split_tensors:
    print(t)

# Repeat tensor
tiled_tensor = original_tensor.repeat(2, 2)
print("\nRepeated Tensor:")
print(tiled_tensor)

# Apply a custom function element-wise
def custom_function(x):
    return x ** 2 + 2*x + 1

custom_tensor = custom_function(original_tensor)
print("\nTensor after Applying Custom Function:")
print(custom_tensor)
