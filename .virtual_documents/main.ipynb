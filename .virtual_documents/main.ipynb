!pip install numpy
!pip install pandas
!pip install matplotlib
!pip install scikit-learn
!pip install seaborn
!pip install ta
!pip install mplfinance



import numpy as np
import pandas as pd
import matplotlib.pyplot as plt
import sklearn
import seaborn as sns
from sklearn import linear_model as lm
from sklearn.model_selection import train_test_split
import os
import re
import ta
import mplfinance as mpf
