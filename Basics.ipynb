{
 "cells": [
  {
   "cell_type": "markdown",
   "id": "dd296246-f1ed-44ef-b202-6c985156110b",
   "metadata": {},
   "source": [
    "# Learn the Basics "
   ]
  },
  {
   "cell_type": "code",
   "execution_count": null,
   "id": "bbb7dfed-0474-4b21-8709-ca82f41522ad",
   "metadata": {},
   "outputs": [],
   "source": []
  }
 ],
 "metadata": {
  "kernelspec": {
   "display_name": "Python 3 (ipykernel)",
   "language": "python",
   "name": "python3"
  },
  "language_info": {
   "codemirror_mode": {
    "name": "ipython",
    "version": 3
   },
   "file_extension": ".py",
   "mimetype": "text/x-python",
   "name": "python",
   "nbconvert_exporter": "python",
   "pygments_lexer": "ipython3",
   "version": "3.10.9"
  }
 },
 "nbformat": 4,
 "nbformat_minor": 5
}
